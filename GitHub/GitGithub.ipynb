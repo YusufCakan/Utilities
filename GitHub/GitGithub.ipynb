{
 "cells": [
  {
   "cell_type": "markdown",
   "metadata": {},
   "source": [
    "##Learn GIT and GITHUB"
   ]
  },
  {
   "cell_type": "markdown",
   "metadata": {},
   "source": [
    "First thing is that git must be configured before first use."
   ]
  },
  {
   "cell_type": "code",
   "execution_count": 1,
   "metadata": {
    "collapsed": false
   },
   "outputs": [],
   "source": [
    "%%bash\n",
    "git config --global user.name \"YusufCakan\"\n",
    "git config --global user.email \"yusuf8050@gmail.com\""
   ]
  },
  {
   "cell_type": "markdown",
   "metadata": {},
   "source": [
    "You must also tell git how will you edit files (it will ask you to edit messages and other information, and thus wants to know which text editor you would like to use). I will set mine to nano which is very light weight."
   ]
  },
  {
   "cell_type": "code",
   "execution_count": 2,
   "metadata": {
    "collapsed": true
   },
   "outputs": [],
   "source": [
    "%%bash \n",
    "git config --global core.edit /usr/bin/nano\n",
    "git config --global color.ui \"auto\""
   ]
  },
  {
   "cell_type": "markdown",
   "metadata": {},
   "source": [
    "Set git to use credential memory cache so that we don't have to retype password too frequently.  For Mac the code is as follows. Git has instructions for linux and Microsoft."
   ]
  },
  {
   "cell_type": "code",
   "execution_count": 3,
   "metadata": {
    "collapsed": false
   },
   "outputs": [],
   "source": [
    "%%bash\n",
    "git config --global credential.helper.oskeychain"
   ]
  },
  {
   "cell_type": "markdown",
   "metadata": {},
   "source": [
    "Simply type git to see full list of all the core commands. We will go throught each one of these in more detail below. "
   ]
  },
  {
   "cell_type": "code",
   "execution_count": 4,
   "metadata": {
    "collapsed": false
   },
   "outputs": [
    {
     "name": "stdout",
     "output_type": "stream",
     "text": [
      "usage: git [--version] [--help] [-C <path>] [-c name=value]\r\n",
      "           [--exec-path[=<path>]] [--html-path] [--man-path] [--info-path]\r\n",
      "           [-p|--paginate|--no-pager] [--no-replace-objects] [--bare]\r\n",
      "           [--git-dir=<path>] [--work-tree=<path>] [--namespace=<name>]\r\n",
      "           <command> [<args>]\r\n",
      "\r\n",
      "The most commonly used git commands are:\r\n",
      "   add        Add file contents to the index\r\n",
      "   bisect     Find by binary search the change that introduced a bug\r\n",
      "   branch     List, create, or delete branches\r\n",
      "   checkout   Checkout a branch or paths to the working tree\r\n",
      "   clone      Clone a repository into a new directory\r\n",
      "   commit     Record changes to the repository\r\n",
      "   diff       Show changes between commits, commit and working tree, etc\r\n",
      "   fetch      Download objects and refs from another repository\r\n",
      "   grep       Print lines matching a pattern\r\n",
      "   init       Create an empty Git repository or reinitialize an existing one\r\n",
      "   log        Show commit logs\r\n",
      "   merge      Join two or more development histories together\r\n",
      "   mv         Move or rename a file, a directory, or a symlink\r\n",
      "   pull       Fetch from and integrate with another repository or a local branch\r\n",
      "   push       Update remote refs along with associated objects\r\n",
      "   rebase     Forward-port local commits to the updated upstream head\r\n",
      "   reset      Reset current HEAD to the specified state\r\n",
      "   rm         Remove files from the working tree and from the index\r\n",
      "   show       Show various types of objects\r\n",
      "   status     Show the working tree status\r\n",
      "   tag        Create, list, delete or verify a tag object signed with GPG\r\n",
      "\r\n",
      "'git help -a' and 'git help -g' lists available subcommands and some\r\n",
      "concept guides. See 'git help <command>' or 'git help <concept>'\r\n",
      "to read about a specific subcommand or concept.\r\n"
     ]
    }
   ],
   "source": [
    "!git"
   ]
  },
  {
   "cell_type": "code",
   "execution_count": 5,
   "metadata": {
    "collapsed": false
   },
   "outputs": [
    {
     "name": "stdout",
     "output_type": "stream",
     "text": [
      "Copula.py             \u001b[34mPictures\u001b[m\u001b[m/             \u001b[34mforeign\u001b[m\u001b[m/\r\n",
      "\u001b[34mDesktop\u001b[m\u001b[m/              \u001b[34mPublic\u001b[m\u001b[m/               \u001b[34mipython\u001b[m\u001b[m/\r\n",
      "\u001b[34mDocuments\u001b[m\u001b[m/            Untitled.ipynb        \u001b[34mjsonschema\u001b[m\u001b[m/\r\n",
      "\u001b[34mDownloads\u001b[m\u001b[m/            Untitled0.ipynb       \u001b[31mlibtool\u001b[m\u001b[m*\r\n",
      "Git and Github.ipynb  \u001b[34mbuilds\u001b[m\u001b[m/               \u001b[34mperf\u001b[m\u001b[m/\r\n",
      "\u001b[34mGitHub\u001b[m\u001b[m/               config.log            \u001b[34mptyprocess\u001b[m\u001b[m/\r\n",
      "\u001b[34mLibrary\u001b[m\u001b[m/              \u001b[31mconfig.status\u001b[m\u001b[m*        \u001b[34msrc\u001b[m\u001b[m/\r\n",
      "Makefile              copula.ipynb          \u001b[34mterminado\u001b[m\u001b[m/\r\n",
      "\u001b[34mMovies\u001b[m\u001b[m/               copula2.ipynb         \u001b[34mtools\u001b[m\u001b[m/\r\n",
      "\u001b[34mMusic\u001b[m\u001b[m/                \u001b[34mdoc\u001b[m\u001b[m/                  typing.ipynb\r\n"
     ]
    }
   ],
   "source": [
    "ls"
   ]
  },
  {
   "cell_type": "markdown",
   "metadata": {},
   "source": [
    "### git init: create an empty repository"
   ]
  },
  {
   "cell_type": "code",
   "execution_count": 6,
   "metadata": {
    "collapsed": false
   },
   "outputs": [
    {
     "name": "stdout",
     "output_type": "stream",
     "text": [
      "Initialized empty Git repository in /Users/yusufcakan/test/.git/\n"
     ]
    }
   ],
   "source": [
    "%%bash\n",
    "rm -rf test\n",
    "git init test"
   ]
  },
  {
   "cell_type": "markdown",
   "metadata": {},
   "source": [
    "Lets look at what git did"
   ]
  },
  {
   "cell_type": "code",
   "execution_count": 12,
   "metadata": {
    "collapsed": false
   },
   "outputs": [
    {
     "name": "stdout",
     "output_type": "stream",
     "text": [
      "/Users/yusufcakan/test\n"
     ]
    }
   ],
   "source": [
    "cd test"
   ]
  },
  {
   "cell_type": "code",
   "execution_count": 13,
   "metadata": {
    "collapsed": false
   },
   "outputs": [
    {
     "name": "stdout",
     "output_type": "stream",
     "text": [
      "total 0\n",
      "drwxr-xr-x   3 yusufcakan  staff   102 26 Jan 10:37 .\n",
      "drwxr-xr-x+ 54 yusufcakan  staff  1836 26 Jan 10:37 ..\n",
      "drwxr-xr-x  10 yusufcakan  staff   340 26 Jan 10:37 .git\n"
     ]
    }
   ],
   "source": [
    "%%bash\n",
    "ls -al"
   ]
  },
  {
   "cell_type": "code",
   "execution_count": 14,
   "metadata": {
    "collapsed": false
   },
   "outputs": [
    {
     "name": "stdout",
     "output_type": "stream",
     "text": [
      "total 24\n",
      "-rw-r--r--   1 yusufcakan  staff   23 26 Jan 10:37 HEAD\n",
      "drwxr-xr-x   2 yusufcakan  staff   68 26 Jan 10:37 branches\n",
      "-rw-r--r--   1 yusufcakan  staff  137 26 Jan 10:37 config\n",
      "-rw-r--r--   1 yusufcakan  staff   73 26 Jan 10:37 description\n",
      "drwxr-xr-x  11 yusufcakan  staff  374 26 Jan 10:37 hooks\n",
      "drwxr-xr-x   3 yusufcakan  staff  102 26 Jan 10:37 info\n",
      "drwxr-xr-x   4 yusufcakan  staff  136 26 Jan 10:37 objects\n",
      "drwxr-xr-x   4 yusufcakan  staff  136 26 Jan 10:37 refs\n"
     ]
    }
   ],
   "source": [
    "%%bash\n",
    "ls -l .git"
   ]
  },
  {
   "cell_type": "markdown",
   "metadata": {},
   "source": [
    "Now lets edit our first file in the test directory  with a text editor. I am doing it programatiically here, but in practice it will be in a text editor or some other software that we create our files"
   ]
  },
  {
   "cell_type": "code",
   "execution_count": 15,
   "metadata": {
    "collapsed": true
   },
   "outputs": [],
   "source": [
    "%%bash \n",
    "echo \"my first bit of text\" > file.txt"
   ]
  },
  {
   "cell_type": "code",
   "execution_count": 16,
   "metadata": {
    "collapsed": false
   },
   "outputs": [
    {
     "name": "stdout",
     "output_type": "stream",
     "text": [
      "file.txt\r\n"
     ]
    }
   ],
   "source": [
    "ls"
   ]
  },
  {
   "cell_type": "markdown",
   "metadata": {},
   "source": [
    "###git add: Tell git about this new file"
   ]
  },
  {
   "cell_type": "code",
   "execution_count": 17,
   "metadata": {
    "collapsed": false
   },
   "outputs": [],
   "source": [
    "%%bash\n",
    "git add file.txt"
   ]
  },
  {
   "cell_type": "markdown",
   "metadata": {},
   "source": [
    "We can ask git about what happed with status"
   ]
  },
  {
   "cell_type": "code",
   "execution_count": 18,
   "metadata": {
    "collapsed": false
   },
   "outputs": [
    {
     "name": "stdout",
     "output_type": "stream",
     "text": [
      "On branch master\n",
      "\n",
      "Initial commit\n",
      "\n",
      "Changes to be committed:\n",
      "  (use \"git rm --cached <file>...\" to unstage)\n",
      "\n",
      "\tnew file:   file.txt\n",
      "\n"
     ]
    }
   ],
   "source": [
    "%%bash\n",
    "git status"
   ]
  },
  {
   "cell_type": "markdown",
   "metadata": {},
   "source": [
    "### git commit: permanently record our changes in gits database"
   ]
  },
  {
   "cell_type": "markdown",
   "metadata": {},
   "source": [
    "For now, we are always going to call `git` commit with a the `-a` or with specific filenames`git commit file1 file2...`. This delays teh discussion  of an aspect fo git called index(often refered to as staging area) that we will cover later.  Most everyday work in scientific practice doesnt require  understand the extra moving parts that the index involves."
   ]
  },
  {
   "cell_type": "code",
   "execution_count": 19,
   "metadata": {
    "collapsed": false
   },
   "outputs": [
    {
     "name": "stdout",
     "output_type": "stream",
     "text": [
      "[master (root-commit) ca6e322] This is our first commit\n",
      " 1 file changed, 1 insertion(+)\n",
      " create mode 100644 file.txt\n"
     ]
    }
   ],
   "source": [
    "%%bash\n",
    "git commit -a -m\"This is our first commit\""
   ]
  },
  {
   "cell_type": "markdown",
   "metadata": {},
   "source": [
    "In the commmit above, we used the -m flat to specify a message at teh command line.  If we dont do that git will open the editor we specified earlier in our configuration above and require that we enter a message. But default, git refuse to record changes that we  dont have a message to go along with. "
   ]
  },
  {
   "cell_type": "markdown",
   "metadata": {},
   "source": [
    "### git log: what has been committed so far"
   ]
  },
  {
   "cell_type": "code",
   "execution_count": 20,
   "metadata": {
    "collapsed": false
   },
   "outputs": [
    {
     "name": "stdout",
     "output_type": "stream",
     "text": [
      "commit ca6e3228d8834124da09de20efe5728694699851\n",
      "Author: YusufCakan <yusuf8050@gmail.com>\n",
      "Date:   Mon Jan 26 10:38:33 2015 +1100\n",
      "\n",
      "    This is our first commit\n"
     ]
    }
   ],
   "source": [
    "%%bash\n",
    "git log"
   ]
  },
  {
   "cell_type": "markdown",
   "metadata": {},
   "source": [
    "### git diff: what have I changed?"
   ]
  },
  {
   "cell_type": "code",
   "execution_count": 21,
   "metadata": {
    "collapsed": true
   },
   "outputs": [],
   "source": [
    "%%bash\n",
    "echo \"And now some more text...\" >> file.txt"
   ]
  },
  {
   "cell_type": "markdown",
   "metadata": {},
   "source": [
    "Now you can ask git what is the difference"
   ]
  },
  {
   "cell_type": "code",
   "execution_count": 22,
   "metadata": {
    "collapsed": false
   },
   "outputs": [
    {
     "name": "stdout",
     "output_type": "stream",
     "text": [
      "diff --git a/file.txt b/file.txt\n",
      "index 7369110..f150247 100644\n",
      "--- a/file.txt\n",
      "+++ b/file.txt\n",
      "@@ -1 +1,2 @@\n",
      " my first bit of text\n",
      "+And now some more text...\n"
     ]
    }
   ],
   "source": [
    "%%bash\n",
    "git diff"
   ]
  },
  {
   "cell_type": "markdown",
   "metadata": {},
   "source": [
    "###The cycle of virtue: work, commit, work, commit"
   ]
  },
  {
   "cell_type": "code",
   "execution_count": 23,
   "metadata": {
    "collapsed": false
   },
   "outputs": [
    {
     "name": "stdout",
     "output_type": "stream",
     "text": [
      "[master e13e270] I have made great process on this critical matter\n",
      " 1 file changed, 1 insertion(+)\n"
     ]
    }
   ],
   "source": [
    "%%%bash\n",
    "git commit -a -m\"I have made great process on this critical matter\""
   ]
  },
  {
   "cell_type": "code",
   "execution_count": 24,
   "metadata": {
    "collapsed": false
   },
   "outputs": [
    {
     "name": "stdout",
     "output_type": "stream",
     "text": [
      "commit e13e270f3366bbb56baa2b75ebd16305cd079ec3\n",
      "Author: YusufCakan <yusuf8050@gmail.com>\n",
      "Date:   Mon Jan 26 10:38:46 2015 +1100\n",
      "\n",
      "    I have made great process on this critical matter\n",
      "\n",
      "commit ca6e3228d8834124da09de20efe5728694699851\n",
      "Author: YusufCakan <yusuf8050@gmail.com>\n",
      "Date:   Mon Jan 26 10:38:33 2015 +1100\n",
      "\n",
      "    This is our first commit\n"
     ]
    }
   ],
   "source": [
    "%%bash\n",
    "git log"
   ]
  },
  {
   "cell_type": "markdown",
   "metadata": {},
   "source": [
    "Sometimes, its handly to see a very summarized versionof teh log:"
   ]
  },
  {
   "cell_type": "code",
   "execution_count": 25,
   "metadata": {
    "collapsed": false
   },
   "outputs": [
    {
     "name": "stdout",
     "output_type": "stream",
     "text": [
      "* e13e270 I have made great process on this critical matter\n",
      "* ca6e322 This is our first commit\n"
     ]
    }
   ],
   "source": [
    "%%bash\n",
    "git log --oneline --topo-order --graph"
   ]
  },
  {
   "cell_type": "markdown",
   "metadata": {},
   "source": [
    "Git support aliasses: new names given to  command combination. Lets make this handy short log an alias, so we only have to type git slog and see this compact log;"
   ]
  },
  {
   "cell_type": "code",
   "execution_count": 26,
   "metadata": {
    "collapsed": false
   },
   "outputs": [
    {
     "name": "stdout",
     "output_type": "stream",
     "text": [
      "* e13e270 I have made great process on this critical matter\n",
      "* ca6e322 This is our first commit\n"
     ]
    }
   ],
   "source": [
    "%%bash\n",
    "git config --global alias.slog \"log --oneline --topo-order --graph\"\n",
    "git slog"
   ]
  },
  {
   "cell_type": "markdown",
   "metadata": {},
   "source": [
    "###git mv and rm: moving and removing files"
   ]
  },
  {
   "cell_type": "markdown",
   "metadata": {},
   "source": [
    "While git add is used to add files to list git tracks, we must also tell it if we want their names to change or for it to stop tracking them. In a familiar Unix fashion, the mv and rm git comands do precisely this:"
   ]
  },
  {
   "cell_type": "code",
   "execution_count": 27,
   "metadata": {
    "collapsed": false
   },
   "outputs": [
    {
     "name": "stdout",
     "output_type": "stream",
     "text": [
      "On branch master\n",
      "Changes to be committed:\n",
      "  (use \"git reset HEAD <file>...\" to unstage)\n",
      "\n",
      "\trenamed:    file.txt -> file-newname.txt\n",
      "\n"
     ]
    }
   ],
   "source": [
    "%%bash\n",
    "git mv file.txt file-newname.txt\n",
    "git status"
   ]
  },
  {
   "cell_type": "markdown",
   "metadata": {},
   "source": [
    "Note that these changes must be committed too, to become permanent!. In git's world until something hasnt been committed, it isnt permanently recorded anywhere."
   ]
  },
  {
   "cell_type": "code",
   "execution_count": 28,
   "metadata": {
    "collapsed": false
   },
   "outputs": [
    {
     "name": "stdout",
     "output_type": "stream",
     "text": [
      "[master 3ff2319] I like this new name better\n",
      " 1 file changed, 0 insertions(+), 0 deletions(-)\n",
      " rename file.txt => file-newname.txt (100%)\n",
      "Lets look at this log again\n",
      "* 3ff2319 I like this new name better\n",
      "* e13e270 I have made great process on this critical matter\n",
      "* ca6e322 This is our first commit\n"
     ]
    }
   ],
   "source": [
    "%%bash\n",
    "git commit -a -m\"I like this new name better\"\n",
    "echo \"Lets look at this log again\"\n",
    "git slog"
   ]
  },
  {
   "cell_type": "markdown",
   "metadata": {},
   "source": [
    "git rm works in a similar fashion"
   ]
  },
  {
   "cell_type": "markdown",
   "metadata": {},
   "source": [
    "### Local user Branching "
   ]
  },
  {
   "cell_type": "markdown",
   "metadata": {},
   "source": [
    "Explanation and diagrams going along with this can be seen at: http://nbviewer.ipython.org/github/fperez/reprosw/blob/master/Version%20Control.ipynb"
   ]
  },
  {
   "cell_type": "markdown",
   "metadata": {},
   "source": [
    "What is a branch? Simply a label for teh current commit in a sequence of ongoing commits.\n",
    "\n",
    "There can be multiple branches alive at any point in time. \n",
    "\n",
    "Your local repository consists of three trees maintained by git. \n",
    "\n",
    "The first one is your working directory, which hold the actual files.  \n",
    "\n",
    "The second one is the Index which acts as staging area.\n",
    "\n",
    "Finally the Head which points to the last commits you made. Once new commits are made on a branch, Head and the branch label move with the new commits.  This allows the history of both branches to diverge. But based on the grap structure maintained by git, it can compute the necessary information to merge divergent branches back and continue with a unified line of development. \n",
    "\n",
    "Lets now illustrate all of this with a concrete example. Lets get our bearings first."
   ]
  },
  {
   "cell_type": "code",
   "execution_count": 29,
   "metadata": {
    "collapsed": false
   },
   "outputs": [
    {
     "name": "stdout",
     "output_type": "stream",
     "text": [
      "On branch master\n",
      "nothing to commit, working directory clean\n",
      "file-newname.txt\n"
     ]
    }
   ],
   "source": [
    "%%bash\n",
    "git status\n",
    "ls"
   ]
  },
  {
   "cell_type": "markdown",
   "metadata": {},
   "source": [
    "We are now going to try two different routes of development. On the master brach we will add one file on the experiment branch, which we wil create a different one. We will then merge the experimental brach into the master."
   ]
  },
  {
   "cell_type": "code",
   "execution_count": 30,
   "metadata": {
    "collapsed": false
   },
   "outputs": [
    {
     "name": "stderr",
     "output_type": "stream",
     "text": [
      "Switched to branch 'experiment'\n"
     ]
    }
   ],
   "source": [
    "%%bash\n",
    "git branch experiment\n",
    "git checkout experiment"
   ]
  },
  {
   "cell_type": "code",
   "execution_count": 31,
   "metadata": {
    "collapsed": false
   },
   "outputs": [
    {
     "name": "stdout",
     "output_type": "stream",
     "text": [
      "[experiment a00e0b6] Trying something new\n",
      " 1 file changed, 1 insertion(+)\n",
      " create mode 100644 experiment.txt\n",
      "* a00e0b6 Trying something new\n",
      "* 3ff2319 I like this new name better\n",
      "* e13e270 I have made great process on this critical matter\n",
      "* ca6e322 This is our first commit\n"
     ]
    }
   ],
   "source": [
    "%%bash\n",
    "echo \"Some crazy idea\" > experiment.txt\n",
    "git add experiment.txt\n",
    "git commit -a -m\"Trying something new\"\n",
    "git slog"
   ]
  },
  {
   "cell_type": "code",
   "execution_count": 32,
   "metadata": {
    "collapsed": false
   },
   "outputs": [
    {
     "name": "stdout",
     "output_type": "stream",
     "text": [
      "* 3ff2319 I like this new name better\n",
      "* e13e270 I have made great process on this critical matter\n",
      "* ca6e322 This is our first commit\n"
     ]
    },
    {
     "name": "stderr",
     "output_type": "stream",
     "text": [
      "Switched to branch 'master'\n"
     ]
    }
   ],
   "source": [
    "%%bash\n",
    "git checkout master\n",
    "git slog"
   ]
  },
  {
   "cell_type": "code",
   "execution_count": 33,
   "metadata": {
    "collapsed": false
   },
   "outputs": [
    {
     "name": "stdout",
     "output_type": "stream",
     "text": [
      "[master a6041df] the mainline keeps moving\n",
      " 1 file changed, 1 insertion(+)\n",
      "* a6041df the mainline keeps moving\n",
      "* 3ff2319 I like this new name better\n",
      "* e13e270 I have made great process on this critical matter\n",
      "* ca6e322 This is our first commit\n"
     ]
    }
   ],
   "source": [
    "%%bash\n",
    "echo \"All the while, more work goes on in master...\">>file-newname.txt\n",
    "git commit -a -m\"the mainline keeps moving\"\n",
    "git slog"
   ]
  },
  {
   "cell_type": "code",
   "execution_count": 34,
   "metadata": {
    "collapsed": false
   },
   "outputs": [
    {
     "name": "stdout",
     "output_type": "stream",
     "text": [
      "file-newname.txt\r\n"
     ]
    }
   ],
   "source": [
    "ls"
   ]
  },
  {
   "cell_type": "code",
   "execution_count": 35,
   "metadata": {
    "collapsed": false
   },
   "outputs": [
    {
     "name": "stdout",
     "output_type": "stream",
     "text": [
      "Merge made by the 'recursive' strategy.\n",
      " experiment.txt | 1 +\n",
      " 1 file changed, 1 insertion(+)\n",
      " create mode 100644 experiment.txt\n",
      "*   4b86d87 Merge branch 'experiment'\n",
      "|\\  \n",
      "| * a00e0b6 Trying something new\n",
      "* | a6041df the mainline keeps moving\n",
      "|/  \n",
      "* 3ff2319 I like this new name better\n",
      "* e13e270 I have made great process on this critical matter\n",
      "* ca6e322 This is our first commit\n"
     ]
    }
   ],
   "source": [
    "%%bash\n",
    "git merge experiment\n",
    "git slog"
   ]
  },
  {
   "cell_type": "markdown",
   "metadata": {},
   "source": [
    "##Using remotes as a single user"
   ]
  },
  {
   "cell_type": "markdown",
   "metadata": {},
   "source": [
    "We are now going to introduce the concept of a remote repository: a pointer to another copy of repository taht lives ina different location. This can be simply a diffferent path on the filesystem or on a server on the internet.\n",
    "\n",
    "For this discussion, we wil be useing the remotes hosted on the GitHub.com servie, but you can equally use other services like Bitbucket, gitorious as welll as host your own."
   ]
  },
  {
   "cell_type": "code",
   "execution_count": 36,
   "metadata": {
    "collapsed": false
   },
   "outputs": [
    {
     "name": "stdout",
     "output_type": "stream",
     "text": [
      "experiment.txt\n",
      "file-newname.txt\n",
      "lets see if we have any remote repositories here:\n"
     ]
    }
   ],
   "source": [
    "%%bash\n",
    "ls\n",
    "echo \"lets see if we have any remote repositories here:\"\n",
    "git remote -v"
   ]
  },
  {
   "cell_type": "markdown",
   "metadata": {},
   "source": [
    "Since the above cell didnt procue any output after `git remote -v` call, it means we \n",
    "have no remote repositories configured. We will now proceed to do so. Once logged into Github got to the new repository bage and make s repository called test. Do **not** check the bas that says *Initiliaze this reprository with README* since we aleady have an existing repository here. That option is useful  when you first start on Github and dont have repo alread made on a local computer. \n",
    "\n",
    "Note: if the following cell takes a long time to run you might need to execute in a terminal, rather than in ipython."
   ]
  },
  {
   "cell_type": "code",
   "execution_count": 37,
   "metadata": {
    "collapsed": false
   },
   "outputs": [
    {
     "name": "stdout",
     "output_type": "stream",
     "text": [
      "Branch master set up to track remote branch master from origin.\n"
     ]
    },
    {
     "name": "stderr",
     "output_type": "stream",
     "text": [
      "To https://github.com/YusufCakan/test.git\n",
      " * [new branch]      master -> master\n"
     ]
    }
   ],
   "source": [
    "%%bash\n",
    "git remote add origin https://github.com/YusufCakan/test.git\n",
    "git push -u origin master"
   ]
  },
  {
   "cell_type": "markdown",
   "metadata": {},
   "source": [
    "Lets see the remote situation again:"
   ]
  },
  {
   "cell_type": "code",
   "execution_count": 38,
   "metadata": {
    "collapsed": false
   },
   "outputs": [
    {
     "name": "stdout",
     "output_type": "stream",
     "text": [
      "origin\thttps://github.com/YusufCakan/test.git (fetch)\n",
      "origin\thttps://github.com/YusufCakan/test.git (push)\n"
     ]
    }
   ],
   "source": [
    "%%bash\n",
    "git remote -v"
   ]
  },
  {
   "cell_type": "markdown",
   "metadata": {},
   "source": [
    "We can now see this repository publicly on github."
   ]
  },
  {
   "cell_type": "markdown",
   "metadata": {},
   "source": [
    "Lets, see how this can be used for syncing work betwen two differnt computers. I'll simulate a 2nd computer by working in a different directory"
   ]
  },
  {
   "cell_type": "code",
   "execution_count": 39,
   "metadata": {
    "collapsed": false
   },
   "outputs": [
    {
     "name": "stdout",
     "output_type": "stream",
     "text": [
      "/Users/yusufcakan/test/test2\n",
      "origin\thttps://github.com/YusufCakan/test.git (fetch)\n",
      "origin\thttps://github.com/YusufCakan/test.git (push)\n"
     ]
    },
    {
     "name": "stderr",
     "output_type": "stream",
     "text": [
      "Cloning into 'test2'...\n"
     ]
    }
   ],
   "source": [
    "%%bash\n",
    "git clone https://github.com/YusufCakan/test.git test2\n",
    "cd test2\n",
    "pwd\n",
    "git remote -v"
   ]
  },
  {
   "cell_type": "markdown",
   "metadata": {},
   "source": [
    "Let's now make some changes in one computer and synchronize them  on a second."
   ]
  },
  {
   "cell_type": "code",
   "execution_count": 41,
   "metadata": {
    "collapsed": false
   },
   "outputs": [
    {
     "name": "stdout",
     "output_type": "stream",
     "text": [
      "/Users/yusufcakan/test/test2\n"
     ]
    }
   ],
   "source": [
    "cd test2"
   ]
  },
  {
   "cell_type": "code",
   "execution_count": 42,
   "metadata": {
    "collapsed": false
   },
   "outputs": [
    {
     "name": "stdout",
     "output_type": "stream",
     "text": [
      "[master 4fedee8] More work on machine 2\n",
      " 1 file changed, 1 insertion(+)\n"
     ]
    }
   ],
   "source": [
    "%%bash\n",
    "echo \"More new content on my experiment\" >> experiment.txt\n",
    "git commit -a -m\"More work on machine 2\""
   ]
  },
  {
   "cell_type": "markdown",
   "metadata": {},
   "source": [
    "Now we put this new work up on github server so its all available from the internet."
   ]
  },
  {
   "cell_type": "code",
   "execution_count": 43,
   "metadata": {
    "collapsed": false
   },
   "outputs": [
    {
     "name": "stderr",
     "output_type": "stream",
     "text": [
      "To https://github.com/YusufCakan/test.git\n",
      "   4b86d87..4fedee8  master -> master\n"
     ]
    }
   ],
   "source": [
    "%%bash\n",
    "git push"
   ]
  },
  {
   "cell_type": "markdown",
   "metadata": {},
   "source": [
    "Now lest fetch that work from machine #1"
   ]
  },
  {
   "cell_type": "code",
   "execution_count": 49,
   "metadata": {
    "collapsed": false
   },
   "outputs": [
    {
     "data": {
      "text/plain": [
       "u'/Users/yusufcakan/test'"
      ]
     },
     "execution_count": 49,
     "metadata": {},
     "output_type": "execute_result"
    }
   ],
   "source": [
    "pwd"
   ]
  },
  {
   "cell_type": "code",
   "execution_count": 50,
   "metadata": {
    "collapsed": false
   },
   "outputs": [
    {
     "name": "stdout",
     "output_type": "stream",
     "text": [
      "Updating 4b86d87..4fedee8\n",
      "Fast-forward\n",
      " experiment.txt | 1 +\n",
      " 1 file changed, 1 insertion(+)\n"
     ]
    },
    {
     "name": "stderr",
     "output_type": "stream",
     "text": [
      "From https://github.com/YusufCakan/test\n",
      "   4b86d87..4fedee8  master     -> origin/master\n"
     ]
    }
   ],
   "source": [
    "%%bash\n",
    "git pull"
   ]
  },
  {
   "cell_type": "code",
   "execution_count": null,
   "metadata": {
    "collapsed": true
   },
   "outputs": [],
   "source": []
  },
  {
   "cell_type": "code",
   "execution_count": null,
   "metadata": {
    "collapsed": true
   },
   "outputs": [],
   "source": []
  },
  {
   "cell_type": "code",
   "execution_count": null,
   "metadata": {
    "collapsed": true
   },
   "outputs": [],
   "source": []
  }
 ],
 "metadata": {
  "kernelspec": {
   "display_name": "Python 2",
   "name": "python2"
  },
  "language_info": {
   "codemirror_mode": {
    "name": "ipython",
    "version": 2
   },
   "file_extension": ".py",
   "mimetype": "text/x-python",
   "name": "python",
   "nbconvert_exporter": "python",
   "pygments_lexer": "ipython2",
   "version": "2.7.6"
  }
 },
 "nbformat": 4,
 "nbformat_minor": 0
}
